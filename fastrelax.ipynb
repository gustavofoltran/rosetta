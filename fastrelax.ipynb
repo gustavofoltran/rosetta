{
  "nbformat": 4,
  "nbformat_minor": 0,
  "metadata": {
    "colab": {
      "provenance": [],
      "authorship_tag": "ABX9TyPgwz3SZr/8lPQ5whQOcufB",
      "include_colab_link": true
    },
    "kernelspec": {
      "name": "python3",
      "display_name": "Python 3"
    },
    "language_info": {
      "name": "python"
    }
  },
  "cells": [
    {
      "cell_type": "markdown",
      "metadata": {
        "id": "view-in-github",
        "colab_type": "text"
      },
      "source": [
        "<a href=\"https://colab.research.google.com/github/gustavofoltran/rosetta/blob/main/fastrelax.ipynb\" target=\"_parent\"><img src=\"https://colab.research.google.com/assets/colab-badge.svg\" alt=\"Open In Colab\"/></a>"
      ]
    },
    {
      "cell_type": "code",
      "execution_count": null,
      "metadata": {
        "id": "oloxegqw62Aj",
        "colab": {
          "base_uri": "https://localhost:8080/"
        },
        "outputId": "f611bfbf-f3c4-41f9-88d3-64862399af43"
      },
      "outputs": [
        {
          "output_type": "stream",
          "name": "stdout",
          "text": [
            "Collecting odfpy\n",
            "  Downloading odfpy-1.4.1.tar.gz (717 kB)\n",
            "\u001b[2K     \u001b[90m━━━━━━━━━━━━━━━━━━━━━━━━━━━━━━━━━━━━━━━\u001b[0m \u001b[32m717.0/717.0 kB\u001b[0m \u001b[31m9.2 MB/s\u001b[0m eta \u001b[36m0:00:00\u001b[0m\n",
            "\u001b[?25h  Preparing metadata (setup.py) ... \u001b[?25l\u001b[?25hdone\n",
            "Requirement already satisfied: defusedxml in /usr/local/lib/python3.12/dist-packages (from odfpy) (0.7.1)\n",
            "Building wheels for collected packages: odfpy\n",
            "  Building wheel for odfpy (setup.py) ... \u001b[?25l\u001b[?25hdone\n",
            "  Created wheel for odfpy: filename=odfpy-1.4.1-py2.py3-none-any.whl size=160673 sha256=8b1a7ec7eb996fd73bcc61498b7df8b9648efeb4f9679b6a5ed63d56aa0e20b0\n",
            "  Stored in directory: /root/.cache/pip/wheels/36/5d/63/8243a7ee78fff0f944d638fd0e66d7278888f5e2285d7346b6\n",
            "Successfully built odfpy\n",
            "Installing collected packages: odfpy\n",
            "Successfully installed odfpy-1.4.1\n"
          ]
        }
      ],
      "source": [
        "import pandas as pd\n",
        "import matplotlib.pyplot as plt\n",
        "import numpy as np\n",
        "!pip install odfpy\n"
      ]
    },
    {
      "cell_type": "code",
      "source": [
        "score = 'https://raw.githubusercontent.com/gustavofoltran/rosetta/02ae3f80020e40f04a546a52b79c48343f3a4573/score.ods'\n",
        "df = pd.read_excel(score, skiprows=1, engine='odf', decimal=',')\n",
        "print(df.head())\n",
        "\n",
        "df_ts = df.sort_values(by='total_score')\n",
        "\n",
        "print(\"os 5 com menor 'total_score'):\")\n",
        "print(df_ts.head())\n",
        "\n",
        "#talvez seja melhor filtrar por todos<10 (valor mínimo)\n",
        "df_bu = df.sort_values(by='bu')\n",
        "print(\"os 5 com menor 'bu'):\")\n",
        "print(df_bu.head())\n",
        "\n",
        "df_ddg = df.sort_values(by='ddg')\n",
        "print(\"os 5 com menor 'ddg'):\")\n",
        "print(df_ddg.head(5))\n",
        "\n",
        "#verificar as metricas dG_separated, fa_rep, packstat, hbonds_int, fa_sol, I_rms, ligand_rms, sc\n",
        "#verificar qual a linha mais repetida (script que mais atened critérios)\n",
        "#plt de grafico talvez?\n",
        "\n"
      ],
      "metadata": {
        "colab": {
          "base_uri": "https://localhost:8080/"
        },
        "id": "IZH-1X9EAxJr",
        "outputId": "499723d6-be65-4a44-954a-93173d77a2f4"
      },
      "execution_count": null,
      "outputs": [
        {
          "output_type": "stream",
          "name": "stdout",
          "text": [
            "   SCORE:  total_score  bu  complex_normalized  dG_cross  dG_cross/dSASAx100  \\\n",
            "0  SCORE:    -1762.199   9              -2.977   -72.379              -3.264   \n",
            "1  SCORE:    -1763.304   9              -2.979   -71.189              -3.199   \n",
            "2  SCORE:    -1762.199   9              -2.977   -72.379              -3.264   \n",
            "3  SCORE:    -1762.199   9              -2.977   -72.379              -3.264   \n",
            "4  SCORE:    -1766.914  11              -2.985   -71.167              -3.175   \n",
            "\n",
            "   dG_separated  dG_separated/dSASAx100  dSASA_hphobic  dSASA_int  ...  \\\n",
            "0       -69.031                  -3.113       1476.934   2217.356  ...   \n",
            "1       -69.444                  -3.120       1503.983   2225.670  ...   \n",
            "2       -69.031                  -3.113       1476.934   2217.356  ...   \n",
            "3       -69.031                  -3.113       1476.934   2217.356  ...   \n",
            "4       -69.278                  -3.091       1509.171   2241.383  ...   \n",
            "\n",
            "   rama_prepro      ref  sc_value  side1_normalized  side1_score  \\\n",
            "0       39.625  246.005     0.699            -3.219     -167.374   \n",
            "1       39.764  246.005     0.703            -3.208     -166.817   \n",
            "2       39.625  246.005     0.699            -3.219     -167.374   \n",
            "3       39.625  246.005     0.699            -3.219     -167.374   \n",
            "4       40.318  250.385     0.671            -3.206     -166.719   \n",
            "\n",
            "   side2_normalized  side2_score  unsat  yhh_planarity     description  \n",
            "0            -3.420     -106.034    119          1.517  1B41_0001_0001  \n",
            "1            -3.456     -107.138    118          1.535  1B41_0001_0002  \n",
            "2            -3.420     -106.034    119          1.517  1B41_0001_0003  \n",
            "3            -3.420     -106.034    119          1.517  1B41_0001_0004  \n",
            "4            -3.457     -107.160    119          1.571  1B41_0001_0005  \n",
            "\n",
            "[5 rows x 45 columns]\n",
            "os 5 com menor 'total_score'):\n",
            "    SCORE:  total_score  bu  complex_normalized  dG_cross  dG_cross/dSASAx100  \\\n",
            "4   SCORE:    -1766.914  11              -2.985   -71.167              -3.175   \n",
            "9   SCORE:    -1766.914  11              -2.985   -71.167              -3.175   \n",
            "14  SCORE:    -1766.914  11              -2.985   -71.167              -3.175   \n",
            "46  SCORE:    -1766.914  11              -2.985   -71.167              -3.175   \n",
            "49  SCORE:    -1766.914  11              -2.985   -71.167              -3.175   \n",
            "\n",
            "    dG_separated  dG_separated/dSASAx100  dSASA_hphobic  dSASA_int  ...  \\\n",
            "4        -69.278                  -3.091       1509.171   2241.383  ...   \n",
            "9        -69.389                  -3.096       1509.171   2241.383  ...   \n",
            "14       -69.278                  -3.091       1509.171   2241.383  ...   \n",
            "46       -69.389                  -3.096       1509.171   2241.383  ...   \n",
            "49       -69.278                  -3.091       1509.171   2241.383  ...   \n",
            "\n",
            "    rama_prepro      ref  sc_value  side1_normalized  side1_score  \\\n",
            "4        40.318  250.385     0.671            -3.206     -166.719   \n",
            "9        40.318  250.385     0.671            -3.206     -166.719   \n",
            "14       40.318  250.385     0.671            -3.206     -166.719   \n",
            "46       40.318  250.385     0.671            -3.206     -166.719   \n",
            "49       40.318  250.385     0.671            -3.206     -166.719   \n",
            "\n",
            "    side2_normalized  side2_score  unsat  yhh_planarity     description  \n",
            "4             -3.457      -107.16    119          1.571  1B41_0001_0005  \n",
            "9             -3.457      -107.16    119          1.571  1B41_0001_0010  \n",
            "14            -3.457      -107.16    119          1.571  1B41_0001_0015  \n",
            "46            -3.457      -107.16    119          1.571  1B41_0001_0047  \n",
            "49            -3.457      -107.16    119          1.571  1B41_0001_0050  \n",
            "\n",
            "[5 rows x 45 columns]\n",
            "os 5 com menor 'bu'):\n",
            "    SCORE:  total_score  bu  complex_normalized  dG_cross  dG_cross/dSASAx100  \\\n",
            "12  SCORE:    -1761.875   8              -2.976   -72.445              -3.214   \n",
            "13  SCORE:    -1762.739   8              -2.978   -68.377              -3.226   \n",
            "17  SCORE:    -1761.997   8              -2.976   -71.303              -3.209   \n",
            "33  SCORE:    -1762.739   8              -2.978   -68.377              -3.226   \n",
            "87  SCORE:    -1762.739   8              -2.978   -68.377              -3.226   \n",
            "\n",
            "    dG_separated  dG_separated/dSASAx100  dSASA_hphobic  dSASA_int  ...  \\\n",
            "12       -70.099                  -3.110       1523.424   2254.318  ...   \n",
            "13       -65.236                  -3.078       1396.448   2119.428  ...   \n",
            "17       -69.932                  -3.148       1500.807   2221.680  ...   \n",
            "33       -65.236                  -3.078       1396.448   2119.428  ...   \n",
            "87       -65.519                  -3.091       1396.448   2119.428  ...   \n",
            "\n",
            "    rama_prepro      ref  sc_value  side1_normalized  side1_score  \\\n",
            "12       39.887  247.447     0.698            -3.206     -163.508   \n",
            "13       39.388  246.575     0.685            -3.137     -159.966   \n",
            "17       39.812  246.005     0.713            -3.194     -162.903   \n",
            "33       39.388  246.575     0.685            -3.137     -159.966   \n",
            "87       39.388  246.575     0.685            -3.137     -159.966   \n",
            "\n",
            "    side2_normalized  side2_score  unsat  yhh_planarity     description  \n",
            "12            -3.421     -102.637    116          1.507  1B41_0001_0013  \n",
            "13            -3.445     -106.784    113          1.513  1B41_0001_0014  \n",
            "17            -3.482     -104.474    119          1.503  1B41_0001_0018  \n",
            "33            -3.445     -106.784    113          1.513  1B41_0001_0034  \n",
            "87            -3.445     -106.784    113          1.513  1B41_0001_0088  \n",
            "\n",
            "[5 rows x 45 columns]\n",
            "os 5 com menor 'ddg'):\n",
            "    SCORE:  total_score  bu  complex_normalized  dG_cross  dG_cross/dSASAx100  \\\n",
            "10  SCORE:    -1763.852  11              -2.979   -74.001              -3.235   \n",
            "12  SCORE:    -1761.875   8              -2.976   -72.445              -3.214   \n",
            "77  SCORE:    -1761.875   8              -2.976   -72.445              -3.214   \n",
            "34  SCORE:    -1763.147  10              -2.978   -74.550              -3.304   \n",
            "17  SCORE:    -1761.997   8              -2.976   -71.303              -3.209   \n",
            "\n",
            "    dG_separated  dG_separated/dSASAx100  dSASA_hphobic  dSASA_int  ...  \\\n",
            "10       -70.279                  -3.073       1490.114   2287.231  ...   \n",
            "12       -70.099                  -3.110       1523.424   2254.318  ...   \n",
            "77       -70.069                  -3.108       1523.424   2254.318  ...   \n",
            "34       -69.961                  -3.100       1465.480   2256.645  ...   \n",
            "17       -69.932                  -3.148       1500.807   2221.680  ...   \n",
            "\n",
            "    rama_prepro      ref  sc_value  side1_normalized  side1_score  \\\n",
            "10       39.607  251.428     0.695            -3.242     -171.839   \n",
            "12       39.887  247.447     0.698            -3.206     -163.508   \n",
            "77       39.887  247.447     0.698            -3.206     -163.508   \n",
            "34       39.389  247.048     0.709            -3.238     -168.388   \n",
            "17       39.812  246.005     0.713            -3.194     -162.903   \n",
            "\n",
            "    side2_normalized  side2_score  unsat  yhh_planarity     description  \n",
            "10            -3.403     -105.506    117          1.573  1B41_0001_0011  \n",
            "12            -3.421     -102.637    116          1.507  1B41_0001_0013  \n",
            "77            -3.421     -102.637    116          1.507  1B41_0001_0078  \n",
            "34            -3.389     -105.072    119          1.531  1B41_0001_0035  \n",
            "17            -3.482     -104.474    119          1.503  1B41_0001_0018  \n",
            "\n",
            "[5 rows x 45 columns]\n"
          ]
        }
      ]
    },
    {
      "cell_type": "code",
      "source": [
        "\n",
        "print(df.columns)"
      ],
      "metadata": {
        "colab": {
          "base_uri": "https://localhost:8080/"
        },
        "id": "cBjr1LXqfJOY",
        "outputId": "527b3895-e789-4c45-9b2b-ebd6256b4bb3"
      },
      "execution_count": null,
      "outputs": [
        {
          "output_type": "stream",
          "name": "stdout",
          "text": [
            "Index(['SCORE:', 'total_score', 'bu', 'complex_normalized', 'dG_cross',\n",
            "       'dG_cross/dSASAx100', 'dG_separated', 'dG_separated/dSASAx100',\n",
            "       'dSASA_hphobic', 'dSASA_int', 'dSASA_polar', 'ddg', 'delta_unsatHbonds',\n",
            "       'dslf_fa13', 'fa_atr', 'fa_dun', 'fa_elec', 'fa_intra_rep',\n",
            "       'fa_intra_sol_xover4', 'fa_rep', 'fa_sol', 'hbond_E_fraction',\n",
            "       'hbond_bb_sc', 'hbond_lr_bb', 'hbond_sc', 'hbond_sr_bb', 'hbonds_int',\n",
            "       'lk_ball_wtd', 'nres_all', 'nres_int', 'omega', 'p_aa_pp', 'packstat',\n",
            "       'per_residue_energy_int', 'pro_close', 'rama_prepro', 'ref', 'sc_value',\n",
            "       'side1_normalized', 'side1_score', 'side2_normalized', 'side2_score',\n",
            "       'unsat', 'yhh_planarity', 'description'],\n",
            "      dtype='object')\n"
          ]
        }
      ]
    }
  ]
}