{
  "nbformat": 4,
  "nbformat_minor": 0,
  "metadata": {
    "colab": {
      "provenance": [],
      "authorship_tag": "ABX9TyOyHgnTxx3NYe6lGEAAh117",
      "include_colab_link": true
    },
    "kernelspec": {
      "name": "python3",
      "display_name": "Python 3"
    },
    "language_info": {
      "name": "python"
    }
  },
  "cells": [
    {
      "cell_type": "markdown",
      "metadata": {
        "id": "view-in-github",
        "colab_type": "text"
      },
      "source": [
        "<a href=\"https://colab.research.google.com/github/gustavofoltran/rosetta/blob/main/fast_des.ipynb\" target=\"_parent\"><img src=\"https://colab.research.google.com/assets/colab-badge.svg\" alt=\"Open In Colab\"/></a>"
      ]
    },
    {
      "cell_type": "code",
      "execution_count": null,
      "metadata": {
        "id": "oloxegqw62Aj",
        "colab": {
          "base_uri": "https://localhost:8080/"
        },
        "outputId": "e5dd0d4c-aa95-4615-cf95-e4b1e6ae5f9a"
      },
      "outputs": [
        {
          "output_type": "stream",
          "name": "stdout",
          "text": [
            "Collecting odfpy\n",
            "  Downloading odfpy-1.4.1.tar.gz (717 kB)\n",
            "\u001b[?25l     \u001b[90m━━━━━━━━━━━━━━━━━━━━━━━━━━━━━━━━━━━━━━━━\u001b[0m \u001b[32m0.0/717.0 kB\u001b[0m \u001b[31m?\u001b[0m eta \u001b[36m-:--:--\u001b[0m\r\u001b[2K     \u001b[91m━━━━━━\u001b[0m\u001b[91m╸\u001b[0m\u001b[90m━━━━━━━━━━━━━━━━━━━━━━━━━━━━━━━━\u001b[0m \u001b[32m122.9/717.0 kB\u001b[0m \u001b[31m3.7 MB/s\u001b[0m eta \u001b[36m0:00:01\u001b[0m\r\u001b[2K     \u001b[91m━━━━━━━━━━━━━━━━━━━━━━━━━━━━━━━━━━━━━\u001b[0m\u001b[91m╸\u001b[0m \u001b[32m716.8/717.0 kB\u001b[0m \u001b[31m10.6 MB/s\u001b[0m eta \u001b[36m0:00:01\u001b[0m\r\u001b[2K     \u001b[90m━━━━━━━━━━━━━━━━━━━━━━━━━━━━━━━━━━━━━━━\u001b[0m \u001b[32m717.0/717.0 kB\u001b[0m \u001b[31m8.8 MB/s\u001b[0m eta \u001b[36m0:00:00\u001b[0m\n",
            "\u001b[?25h  Preparing metadata (setup.py) ... \u001b[?25l\u001b[?25hdone\n",
            "Requirement already satisfied: defusedxml in /usr/local/lib/python3.12/dist-packages (from odfpy) (0.7.1)\n",
            "Building wheels for collected packages: odfpy\n",
            "  Building wheel for odfpy (setup.py) ... \u001b[?25l\u001b[?25hdone\n",
            "  Created wheel for odfpy: filename=odfpy-1.4.1-py2.py3-none-any.whl size=160673 sha256=7bde28eda2b8de3ebdb2e3764390cc00a644981cbd5c883aa54edbd27cd97281\n",
            "  Stored in directory: /root/.cache/pip/wheels/36/5d/63/8243a7ee78fff0f944d638fd0e66d7278888f5e2285d7346b6\n",
            "Successfully built odfpy\n",
            "Installing collected packages: odfpy\n",
            "Successfully installed odfpy-1.4.1\n"
          ]
        }
      ],
      "source": [
        "\n",
        "\n",
        "import pandas as pd\n",
        "import matplotlib.pyplot as plt\n",
        "import numpy as np\n",
        "!pip install odfpy\n"
      ]
    },
    {
      "cell_type": "code",
      "source": [
        "\n",
        "\n",
        "\n",
        "def main():\n",
        "    score = 'https://raw.githubusercontent.com/gustavofoltran/rosetta/02ae3f80020e40f04a546a52b79c48343f3a4573/score.ods'\n",
        "    df = pd.read_excel(score, skiprows=1, engine='odf', decimal=',')\n",
        "\n",
        "\n",
        "    colunas_essenciais = ['dG_separated', 'total_score', 'packstat', 'hbonds_int', 'fa_rep', 'fa_sol', 'sc_value', 'ddg', 'bu', 'description']\n",
        "    colunas_ascendentes = ['dG_separated', 'total_score', 'ddg', 'bu', 'fa_rep' ]\n",
        "    colunas_decrescentes = ['packstat', 'hbonds_int', 'sc_value' ]\n",
        "\n",
        "    for pontuação in colunas_ascendentes:\n",
        "\n",
        "        df[f'rank_{pontuação}'] = df[pontuação].rank(ascending=True)\n",
        "\n",
        "    for pontuação in colunas_decrescentes:\n",
        "        df[f'rank_{pontuação}'] = df[pontuação].rank(ascending=False)\n",
        "\n",
        "    ordem_final = [f'rank_{pontuação}' for pontuação in colunas_ascendentes + colunas_decrescentes]\n",
        "\n",
        "    df['final'] = df[ordem_final].sum(axis=1)\n",
        "\n",
        "    df_ranked_overall = df.sort_values(by='final', ascending=True)\n",
        "\n",
        "    colunas_para_exibir = ['description','final']\n",
        "\n",
        "    print(df_ranked_overall[colunas_para_exibir].head(10))\n",
        "\n",
        "\n",
        "\n",
        "\n",
        "\n",
        "main()\n",
        "\n",
        "\n"
      ],
      "metadata": {
        "colab": {
          "base_uri": "https://localhost:8080/"
        },
        "id": "IZH-1X9EAxJr",
        "outputId": "022cfb12-e27c-4ffe-cc7f-ea7b72612f6c"
      },
      "execution_count": null,
      "outputs": [
        {
          "output_type": "stream",
          "name": "stdout",
          "text": [
            "       description  final\n",
            "34  1B41_0001_0035  184.5\n",
            "17  1B41_0001_0018  189.5\n",
            "12  1B41_0001_0013  202.0\n",
            "77  1B41_0001_0078  216.0\n",
            "69  1B41_0001_0070  232.0\n",
            "52  1B41_0001_0053  250.5\n",
            "40  1B41_0001_0041  253.0\n",
            "18  1B41_0001_0019  254.0\n",
            "0   1B41_0001_0001  260.0\n",
            "81  1B41_0001_0082  261.0\n"
          ]
        }
      ]
    },
    {
      "cell_type": "code",
      "source": [
        "\n",
        "print(planilha.columns)"
      ],
      "metadata": {
        "colab": {
          "base_uri": "https://localhost:8080/"
        },
        "id": "cBjr1LXqfJOY",
        "outputId": "527b3895-e789-4c45-9b2b-ebd6256b4bb3"
      },
      "execution_count": null,
      "outputs": [
        {
          "output_type": "stream",
          "name": "stdout",
          "text": [
            "Index(['SCORE:', 'total_score', 'bu', 'complex_normalized', 'dG_cross',\n",
            "       'dG_cross/dSASAx100', 'dG_separated', 'dG_separated/dSASAx100',\n",
            "       'dSASA_hphobic', 'dSASA_int', 'dSASA_polar', 'ddg', 'delta_unsatHbonds',\n",
            "       'dslf_fa13', 'fa_atr', 'fa_dun', 'fa_elec', 'fa_intra_rep',\n",
            "       'fa_intra_sol_xover4', 'fa_rep', 'fa_sol', 'hbond_E_fraction',\n",
            "       'hbond_bb_sc', 'hbond_lr_bb', 'hbond_sc', 'hbond_sr_bb', 'hbonds_int',\n",
            "       'lk_ball_wtd', 'nres_all', 'nres_int', 'omega', 'p_aa_pp', 'packstat',\n",
            "       'per_residue_energy_int', 'pro_close', 'rama_prepro', 'ref', 'sc_value',\n",
            "       'side1_normalized', 'side1_score', 'side2_normalized', 'side2_score',\n",
            "       'unsat', 'yhh_planarity', 'description'],\n",
            "      dtype='object')\n"
          ]
        }
      ]
    },
    {
      "cell_type": "code",
      "source": [
        "def main():\n",
        "    score = 'https://raw.githubusercontent.com/gustavofoltran/rosetta/02ae3f80020e40f04a546a52b79c48343f3a4573/score.ods'\n",
        "    df = pd.read_excel(score, skiprows=1, engine='odf', decimal=',')\n",
        "\n",
        "    todas_colunas = ['SCORE:', 'total_score', 'bu', 'complex_normalized', 'dG_cross', 'dG_cross/dSASAx100', 'dG_separated', 'dG_separated/dSASAx100', 'dSASA_hphobic', 'dSASA_int', 'dSASA_polar', 'ddg', 'delta_unsatHbonds', 'dslf_fa13', 'fa_atr', 'fa_dun', 'fa_elec', 'fa_intra_rep', 'fa_intra_sol_xover4', 'fa_rep', 'fa_sol', 'hbond_E_fraction', 'hbond_bb_sc', 'hbond_lr_bb', 'hbond_sc', 'hbond_sr_bb', 'hbonds_int', 'lk_ball_wtd', 'nres_all', 'nres_int', 'omega', 'p_aa_pp', 'packstat', 'per_residue_energy_int', 'pro_close', 'rama_prepro', 'ref', 'sc_value', 'side1_normalized', 'side1_score', 'side2_normalized', 'side2_score', 'unsat', 'yhh_planarity', 'description']\n",
        "\n",
        "    colunas_ascendentes = [\n",
        "    'total_score',          # Energia total do complexo.\n",
        "    'bu',                   # Pontos de hidrogênio não satisfeitos e enterrados (penalidade).\n",
        "    'complex_normalized',   # Score normalizado pelo n° de resíduos do complexo.\n",
        "    'dG_cross',             # Energia de ligação entre as duas cadeias/lados.\n",
        "    'dG_separated',         # Energia de separação das cadeias/lados.\n",
        "    'ddg',                  # Mudança na energia de ligação (ΔΔG), proxy para afinidade.\n",
        "    'delta_unsatHbonds',    # Contagem de H-bonds não satisfeitos.\n",
        "    'dslf_fa13',            # Energia de pontes dissulfeto.\n",
        "    'fa_atr',               # Energia de atração de van der Waals.\n",
        "    'fa_dun',               # Energia de rotâmeros (probabilidade da conformação da cadeia lateral).\n",
        "    'fa_elec',              # Energia eletrostática.\n",
        "    'fa_intra_rep',         # Energia de repulsão interna de uma cadeia.\n",
        "    'fa_intra_sol_xover4',  # Energia de solvatação intra-cadeia.\n",
        "    'fa_rep',               # Energia de repulsão de van der Waals.\n",
        "    'fa_sol',               # Energia de solvatação.\n",
        "    'hbond_E_fraction',     # Fração da energia total vinda de H-bonds (mais negativo é melhor).\n",
        "    'lk_ball_wtd',          # Potencial de solvatação (Lazaridis-Karplus).\n",
        "    'omega',                # Penalidade para a torção da ligação peptídica.\n",
        "    'p_aa_pp',              # Penalidade de probabilidade de um aminoácido.\n",
        "    'per_residue_energy_int', # Energia de interface por resíduo.\n",
        "    'pro_close',            # Penalidade de fechamento de anel da prolina.\n",
        "    'rama_prepro',          # Penalidade de ângulos Rama/Pré-prolina.\n",
        "    'ref',                  # Energia de referência por aminoácido.\n",
        "    'side1_score',          # Energia da proteína 1 isolada.\n",
        "    'side2_score',          # Energia da proteína 2 (ou ligante) isolada.\n",
        "    'unsat',                # Contagem de átomos polares não satisfeitos.\n",
        "    'yhh_planarity',        # Penalidade para a planaridade de anéis aromáticos.\n",
        "]\n",
        "\n",
        "    colunas_decrescentes = [\n",
        "    'hbond_bb_sc',      # Contagem de H-bonds entre esqueleto e cadeia lateral.\n",
        "    'hbond_lr_bb',      # Contagem de H-bonds de longo alcance no esqueleto.\n",
        "    'hbond_sc',         # Contagem de H-bonds entre cadeias laterais.\n",
        "    'hbond_sr_bb',      # Contagem de H-bonds de curto alcance no esqueleto.\n",
        "    'hbonds_int',       # Contagem de H-bonds na interface.\n",
        "    'packstat',         # Qualidade do empacotamento (próximo de 1.0 é ideal).\n",
        "    'sc_value',         # Complementaridade de forma na interface (próximo de 1.0 é ideal).\n",
        "]\n",
        "\n",
        "    for pontuação in colunas_ascendentes:\n",
        "\n",
        "        df[f'rank_{pontuação}'] = df[pontuação].rank(ascending=True)\n",
        "\n",
        "    for pontuação in colunas_decrescentes:\n",
        "        df[f'rank_{pontuação}'] = df[pontuação].rank(ascending=False)\n",
        "\n",
        "    ordem_final = [f'rank_{pontuação}' for pontuação in colunas_ascendentes + colunas_decrescentes]\n",
        "\n",
        "    df['final'] = df[ordem_final].sum(axis=1)\n",
        "\n",
        "    df_ranked_overall = df.sort_values(by='final', ascending=True)\n",
        "\n",
        "    colunas_para_exibir = ['description','final']\n",
        "\n",
        "    print(df_ranked_overall[colunas_para_exibir].head(10))\n",
        "\n",
        "main()\n"
      ],
      "metadata": {
        "colab": {
          "base_uri": "https://localhost:8080/"
        },
        "id": "87XZt4nONIF8",
        "outputId": "e8d54067-44d5-4a22-f287-b358cafdc782"
      },
      "execution_count": null,
      "outputs": [
        {
          "output_type": "stream",
          "name": "stdout",
          "text": [
            "       description   final\n",
            "45  1B41_0001_0046  1513.0\n",
            "55  1B41_0001_0056  1507.5\n",
            "17  1B41_0001_0018  1487.0\n",
            "66  1B41_0001_0067  1482.5\n",
            "65  1B41_0001_0066  1445.0\n",
            "74  1B41_0001_0075  1437.0\n",
            "29  1B41_0001_0030  1431.5\n",
            "68  1B41_0001_0069  1398.5\n",
            "80  1B41_0001_0081  1331.5\n",
            "10  1B41_0001_0011  1266.0\n"
          ]
        }
      ]
    },
    {
      "cell_type": "code",
      "source": [
        "\n",
        "\n",
        "def weighted_final_analysis():\n",
        "    score_url = 'https://raw.githubusercontent.com/gustavofoltran/rosetta/02ae3f80020e40f04a546a52b79c48343f3a4573/score.ods'\n",
        "    df = pd.read_excel(score_url, skiprows=1, engine='odf', decimal=',')\n",
        "\n",
        "    pesos = {\n",
        "        'dG_separated': 10,\n",
        "        'sc_value':      9,\n",
        "        'hbonds_int':    8,\n",
        "        'bu':            8,\n",
        "        'total_score':   5,\n",
        "        'packstat':      5,\n",
        "        'fa_rep':        3,\n",
        "    }\n",
        "\n",
        "    colunas_ascendentes = ['dG_separated', 'total_score', 'bu', 'fa_rep']\n",
        "    colunas_descendentes = ['sc_value', 'hbonds_int', 'packstat']\n",
        "\n",
        "    for metrica in colunas_ascendentes:\n",
        "        if metrica in pesos:\n",
        "            df[f'rank_{metrica}'] = df[metrica].rank(ascending=True)\n",
        "\n",
        "    for metrica in colunas_descendentes:\n",
        "        if metrica in pesos:\n",
        "            df[f'rank_{metrica}'] = df[metrica].rank(ascending=False)\n",
        "\n",
        "    df['final_score_ponderado'] = 0\n",
        "\n",
        "    for metrica, peso in pesos.items():\n",
        "        df['final_score_ponderado'] += df[f'rank_{metrica}'] * peso\n",
        "\n",
        "\n",
        "    df_ranked_overall = df.sort_values(by='final_score_ponderado', ascending=True)\n",
        "\n",
        "    colunas_para_exibir = ['description', 'dG_separated', 'sc_value', 'hbonds_int', 'bu', 'final_score_ponderado' ]\n",
        "\n",
        "    print(\"--- Top 10 Melhores Candidatos (com pesos) ---\")\n",
        "    print(df_ranked_overall[colunas_para_exibir].head(10))\n",
        "\n",
        "weighted_final_analysis()"
      ],
      "metadata": {
        "colab": {
          "base_uri": "https://localhost:8080/"
        },
        "id": "ORBR5osNPiB_",
        "outputId": "eea8c8cd-6cb1-407e-e564-c95439ee5694"
      },
      "execution_count": null,
      "outputs": [
        {
          "output_type": "stream",
          "name": "stdout",
          "text": [
            "--- Top 10 Melhores Candidatos (com pesos) ---\n",
            "       description  final_score_ponderado  dG_separated  sc_value  hbonds_int  \\\n",
            "17  1B41_0001_0018                  943.0       -69.932     0.713           8   \n",
            "34  1B41_0001_0035                 1012.0       -69.961     0.709           9   \n",
            "12  1B41_0001_0013                 1114.5       -70.099     0.698           9   \n",
            "77  1B41_0001_0078                 1189.5       -70.069     0.698           9   \n",
            "69  1B41_0001_0070                 1215.0       -69.399     0.699           8   \n",
            "52  1B41_0001_0053                 1307.5       -69.399     0.699           8   \n",
            "40  1B41_0001_0041                 1320.0       -69.399     0.699           8   \n",
            "18  1B41_0001_0019                 1325.0       -69.399     0.699           8   \n",
            "81  1B41_0001_0082                 1497.5       -69.031     0.699           8   \n",
            "35  1B41_0001_0036                 1512.5       -69.031     0.699           8   \n",
            "\n",
            "    bu  final_score_ponderado  \n",
            "17   8                  943.0  \n",
            "34  10                 1012.0  \n",
            "12   8                 1114.5  \n",
            "77   8                 1189.5  \n",
            "69   9                 1215.0  \n",
            "52   9                 1307.5  \n",
            "40   9                 1320.0  \n",
            "18   9                 1325.0  \n",
            "81   9                 1497.5  \n",
            "35   9                 1512.5  \n"
          ]
        }
      ]
    },
    {
      "cell_type": "code",
      "source": [
        "import pandas as pd\n",
        "!pip install odfpy\n",
        "\n",
        "def expanded_weighted_analysis():\n",
        "    score_url = 'https://raw.githubusercontent.com/gustavofoltran/rosetta/02ae3f80020e40f04a546a52b79c48343f3a4573/score.ods'\n",
        "    df = pd.read_excel(score_url, skiprows=1, engine='odf', decimal=',')\n",
        "\n",
        "    pesos = {\n",
        "        'dG_separated': 10, 'ddg': 10, 'sc_value': 10,\n",
        "        'hbonds_int': 8, 'bu': 8, 'fa_elec': 7,\n",
        "        'fa_sol': 6, 'total_score': 5, 'packstat': 5,\n",
        "        'fa_rep': 3,\n",
        "    }\n",
        "\n",
        "    colunas_ascendentes = ['dG_separated', 'ddg', 'bu', 'fa_elec',\n",
        "                           'fa_sol', 'total_score', 'fa_rep']\n",
        "    colunas_descendentes = ['sc_value', 'hbonds_int', 'packstat']\n",
        "\n",
        "    for metrica in colunas_ascendentes:\n",
        "        if metrica in pesos:\n",
        "            df[f'rank_{metrica}'] = df[metrica].rank(ascending=True)\n",
        "\n",
        "    for metrica in colunas_descendentes:\n",
        "        if metrica in pesos:\n",
        "            df[f'rank_{metrica}'] = df[metrica].rank(ascending=False)\n",
        "\n",
        "    df['final_score_ponderado'] = 0\n",
        "\n",
        "    for metrica, peso in pesos.items():\n",
        "        df['final_score_ponderado'] += df[f'rank_{metrica}'] * peso\n",
        "\n",
        "    df_ranked_overall = df.sort_values(by='final_score_ponderado', ascending=True)\n",
        "\n",
        "    colunas_para_exibir = [\n",
        "        'description',\n",
        "        'dG_separated',\n",
        "        'ddg',\n",
        "        'sc_value',\n",
        "        'fa_elec',\n",
        "        'hbonds_int',\n",
        "        'bu', 'final_score_ponderado'\n",
        "    ]\n",
        "\n",
        "    print(\"--- Top 10 Melhores Candidatos (Análise Expandida com Pesos) ---\")\n",
        "    print(df_ranked_overall[colunas_para_exibir].head(10).round(2)) # .round(2) para visualização mais limpa\n",
        "\n",
        "expanded_weighted_analysis()\n",
        "#nao leva em consideracao desvio padrao dos dados, entao pequenas ou grandes varições sao tratadas iguais (bu varia bastante)"
      ],
      "metadata": {
        "colab": {
          "base_uri": "https://localhost:8080/"
        },
        "id": "FzQPc-qiQ5hD",
        "outputId": "1e189b1d-6f81-4b2a-b28f-89b88dc6ece9"
      },
      "execution_count": null,
      "outputs": [
        {
          "output_type": "stream",
          "name": "stdout",
          "text": [
            "--- Top 10 Melhores Candidatos (Análise Expandida com Pesos) ---\n",
            "       description  dG_separated    ddg  sc_value  fa_elec  hbonds_int  bu  \\\n",
            "17  1B41_0001_0018        -69.93 -69.93      0.71  -938.61           8   8   \n",
            "34  1B41_0001_0035        -69.96 -69.96      0.71  -939.53           9  10   \n",
            "12  1B41_0001_0013        -70.10 -70.10      0.70  -937.71           9   8   \n",
            "77  1B41_0001_0078        -70.07 -70.10      0.70  -937.71           9   8   \n",
            "19  1B41_0001_0020        -69.34 -69.34      0.70  -938.78           7  10   \n",
            "26  1B41_0001_0027        -69.44 -69.44      0.70  -939.60           7   9   \n",
            "1   1B41_0001_0002        -69.44 -69.44      0.70  -939.60           7   9   \n",
            "69  1B41_0001_0070        -69.40 -69.03      0.70  -937.18           8   9   \n",
            "52  1B41_0001_0053        -69.40 -69.03      0.70  -937.18           8   9   \n",
            "40  1B41_0001_0041        -69.40 -69.03      0.70  -937.18           8   9   \n",
            "\n",
            "    final_score_ponderado  \n",
            "17                 1272.0  \n",
            "34                 1676.0  \n",
            "12                 1726.5  \n",
            "77                 1801.5  \n",
            "19                 2155.0  \n",
            "26                 2269.0  \n",
            "1                  2451.5  \n",
            "69                 2534.0  \n",
            "52                 2626.5  \n",
            "40                 2639.0  \n"
          ]
        }
      ]
    },
    {
      "cell_type": "code",
      "source": [
        "import pandas as pd\n",
        "# O '-q' no pip install é para \"quiet\", ele instala sem gerar muito output.\n",
        "!pip install odfpy -q\n",
        "\n",
        "def comprehensive_weighted_analysis():\n",
        "    score_url = 'https://raw.githubusercontent.com/gustavofoltran/rosetta/02ae3f80020e40f04a546a52b79c48343f3a4573/score.ods'\n",
        "    df = pd.read_excel(score_url, skiprows=1, engine='odf', decimal=',')\n",
        "\n",
        "    # --- DICIONÁRIO DE PESOS ABRANGENTE ---\n",
        "    pesos = {\n",
        "        # Tier 1 (Críticos)\n",
        "        'dG_separated': 10, 'ddg': 10, 'sc_value': 10,\n",
        "\n",
        "        # Tier 2 (Muito Importantes)\n",
        "        'hbonds_int': 8, 'bu': 8, 'unsat': 8, 'delta_unsatHbonds': 8,\n",
        "        'packstat': 8, 'fa_elec': 7,\n",
        "\n",
        "        # Tier 3 (Importantes)\n",
        "        'total_score': 5, 'fa_sol': 6, 'fa_atr': 5, 'dG_cross': 5,\n",
        "        'complex_normalized': 5,\n",
        "\n",
        "        # Tier 4 (Padrão)\n",
        "        'fa_rep': 3, 'fa_dun': 3, 'lk_ball_wtd': 3, 'ref': 3,\n",
        "        'rama_prepro': 2, 'omega': 2, 'p_aa_pp': 2,\n",
        "\n",
        "        # Tier 5 (Ajuste Fino / Desempate)\n",
        "        'hbond_bb_sc': 1, 'hbond_lr_bb': 1, 'hbond_sc': 1, 'hbond_sr_bb': 1,\n",
        "        'fa_intra_rep': 1, 'per_residue_energy_int': 1, 'side1_score': 1, 'side2_score': 1\n",
        "    }\n",
        "\n",
        "    # --- LISTA DE COLUNAS PARA RANQUEAR ---\n",
        "    colunas_ascendentes = [\n",
        "        'total_score', 'bu', 'complex_normalized', 'dG_cross', 'dG_separated',\n",
        "        'ddg', 'delta_unsatHbonds', 'dslf_fa13', 'fa_atr', 'fa_dun', 'fa_elec',\n",
        "        'fa_intra_rep', 'fa_intra_sol_xover4', 'fa_rep', 'fa_sol',\n",
        "        'hbond_E_fraction', 'lk_ball_wtd', 'omega', 'p_aa_pp',\n",
        "        'per_residue_energy_int', 'pro_close', 'rama_prepro', 'ref',\n",
        "        'side1_normalized', 'side1_score', 'side2_normalized', 'side2_score',\n",
        "        'unsat', 'yhh_planarity'\n",
        "    ]\n",
        "    colunas_descendentes = [\n",
        "        'hbond_bb_sc', 'hbond_lr_bb', 'hbond_sc', 'hbond_sr_bb',\n",
        "        'hbonds_int', 'packstat', 'sc_value'\n",
        "    ]\n",
        "\n",
        "    # --- LÓGICA DE CÁLCULO (sem modificação) ---\n",
        "    for metrica in colunas_ascendentes:\n",
        "        if metrica in pesos:\n",
        "            df[f'rank_{metrica}'] = df[metrica].rank(ascending=True)\n",
        "\n",
        "    for metrica in colunas_descendentes:\n",
        "        if metrica in pesos:\n",
        "            df[f'rank_{metrica}'] = df[metrica].rank(ascending=False)\n",
        "\n",
        "    df['final_score_ponderado'] = 0\n",
        "    for metrica, peso in pesos.items():\n",
        "        # Apenas adiciona ao score se a coluna de rank foi criada\n",
        "        if f'rank_{metrica}' in df.columns:\n",
        "            df['final_score_ponderado'] += df[f'rank_{metrica}'] * peso\n",
        "\n",
        "    df_ranked_overall = df.sort_values(by='final_score_ponderado', ascending=True)\n",
        "\n",
        "    # --- EXIBIÇÃO DOS RESULTADOS ---\n",
        "    colunas_para_exibir = [\n",
        "        'description',\n",
        "        'final_score_ponderado',\n",
        "        # Métricas de Tier 1 e 2 para fácil verificação\n",
        "        'dG_separated',\n",
        "        'ddg',\n",
        "        'sc_value',\n",
        "        'packstat',\n",
        "        'hbonds_int',\n",
        "        'bu',\n",
        "    ]\n",
        "\n",
        "    print(\"--- Top 10 - Análise Ponderada Abrangente ---\")\n",
        "    print(df_ranked_overall[colunas_para_exibir].head(10).round(2))\n",
        "\n",
        "comprehensive_weighted_analysis()"
      ],
      "metadata": {
        "colab": {
          "base_uri": "https://localhost:8080/"
        },
        "id": "JW9sRgywlvXZ",
        "outputId": "f6d0659f-bec5-4f68-aabb-cda8ff668f12"
      },
      "execution_count": null,
      "outputs": [
        {
          "output_type": "stream",
          "name": "stdout",
          "text": [
            "\u001b[?25l     \u001b[90m━━━━━━━━━━━━━━━━━━━━━━━━━━━━━━━━━━━━━━━━\u001b[0m \u001b[32m0.0/717.0 kB\u001b[0m \u001b[31m?\u001b[0m eta \u001b[36m-:--:--\u001b[0m\r\u001b[2K     \u001b[91m━━━\u001b[0m\u001b[91m╸\u001b[0m\u001b[90m━━━━━━━━━━━━━━━━━━━━━━━━━━━━━━━━━━━━\u001b[0m \u001b[32m71.7/717.0 kB\u001b[0m \u001b[31m2.2 MB/s\u001b[0m eta \u001b[36m0:00:01\u001b[0m\r\u001b[2K     \u001b[91m━━━━━━━━━━━━\u001b[0m\u001b[91m╸\u001b[0m\u001b[90m━━━━━━━━━━━━━━━━━━━━━━━━━━\u001b[0m \u001b[32m235.5/717.0 kB\u001b[0m \u001b[31m3.2 MB/s\u001b[0m eta \u001b[36m0:00:01\u001b[0m\r\u001b[2K     \u001b[91m━━━━━━━━━━━━━━━━━━━━━━━━━━━━━━━━━━━━━━\u001b[0m\u001b[91m╸\u001b[0m \u001b[32m716.8/717.0 kB\u001b[0m \u001b[31m7.4 MB/s\u001b[0m eta \u001b[36m0:00:01\u001b[0m\r\u001b[2K     \u001b[90m━━━━━━━━━━━━━━━━━━━━━━━━━━━━━━━━━━━━━━━\u001b[0m \u001b[32m717.0/717.0 kB\u001b[0m \u001b[31m6.4 MB/s\u001b[0m eta \u001b[36m0:00:00\u001b[0m\n",
            "\u001b[?25h  Preparing metadata (setup.py) ... \u001b[?25l\u001b[?25hdone\n",
            "  Building wheel for odfpy (setup.py) ... \u001b[?25l\u001b[?25hdone\n",
            "--- Top 10 - Análise Ponderada Abrangente ---\n",
            "       description  final_score_ponderado  dG_separated    ddg  sc_value  \\\n",
            "12  1B41_0001_0013                 4003.5        -70.10 -70.10      0.70   \n",
            "77  1B41_0001_0078                 4117.5        -70.07 -70.10      0.70   \n",
            "10  1B41_0001_0011                 4557.5        -70.28 -70.28      0.70   \n",
            "17  1B41_0001_0018                 4572.0        -69.93 -69.93      0.71   \n",
            "34  1B41_0001_0035                 4576.0        -69.96 -69.96      0.71   \n",
            "26  1B41_0001_0027                 5013.0        -69.44 -69.44      0.70   \n",
            "69  1B41_0001_0070                 5194.5        -69.40 -69.03      0.70   \n",
            "1   1B41_0001_0002                 5305.0        -69.44 -69.44      0.70   \n",
            "52  1B41_0001_0053                 5342.5        -69.40 -69.03      0.70   \n",
            "40  1B41_0001_0041                 5362.5        -69.40 -69.03      0.70   \n",
            "\n",
            "    packstat  hbonds_int  bu  \n",
            "12      0.64           9   8  \n",
            "77      0.63           9   8  \n",
            "10      0.59           8  11  \n",
            "17      0.65           8   8  \n",
            "34      0.60           9  10  \n",
            "26      0.61           7   9  \n",
            "69      0.66           8   9  \n",
            "1       0.58           7   9  \n",
            "52      0.63           8   9  \n",
            "40      0.63           8   9  \n"
          ]
        }
      ]
    }
  ]
}