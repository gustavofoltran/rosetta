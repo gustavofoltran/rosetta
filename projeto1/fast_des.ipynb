{
  "nbformat": 4,
  "nbformat_minor": 0,
  "metadata": {
    "colab": {
      "provenance": [],
      "authorship_tag": "ABX9TyOY95yOAfhJDltND7jGcQgT",
      "include_colab_link": true
    },
    "kernelspec": {
      "name": "python3",
      "display_name": "Python 3"
    },
    "language_info": {
      "name": "python"
    }
  },
  "cells": [
    {
      "cell_type": "markdown",
      "metadata": {
        "id": "view-in-github",
        "colab_type": "text"
      },
      "source": [
        "<a href=\"https://colab.research.google.com/github/gustavofoltran/rosetta/blob/main/projeto0001/fast_des.ipynb\" target=\"_parent\"><img src=\"https://colab.research.google.com/assets/colab-badge.svg\" alt=\"Open In Colab\"/></a>"
      ]
    },
    {
      "cell_type": "code",
      "execution_count": null,
      "metadata": {
        "id": "oloxegqw62Aj",
        "colab": {
          "base_uri": "https://localhost:8080/"
        },
        "outputId": "448842b5-6349-47ce-cefa-dd09d03228d1"
      },
      "outputs": [
        {
          "output_type": "stream",
          "name": "stdout",
          "text": [
            "Collecting odfpy\n",
            "  Downloading odfpy-1.4.1.tar.gz (717 kB)\n",
            "\u001b[2K     \u001b[90m━━━━━━━━━━━━━━━━━━━━━━━━━━━━━━━━━━━━━━━\u001b[0m \u001b[32m717.0/717.0 kB\u001b[0m \u001b[31m5.6 MB/s\u001b[0m eta \u001b[36m0:00:00\u001b[0m\n",
            "\u001b[?25h  Preparing metadata (setup.py) ... \u001b[?25l\u001b[?25hdone\n",
            "Requirement already satisfied: defusedxml in /usr/local/lib/python3.12/dist-packages (from odfpy) (0.7.1)\n",
            "Building wheels for collected packages: odfpy\n",
            "  Building wheel for odfpy (setup.py) ... \u001b[?25l\u001b[?25hdone\n",
            "  Created wheel for odfpy: filename=odfpy-1.4.1-py2.py3-none-any.whl size=160673 sha256=bb9ece80abcb0d4946c97d7acefa9616230459c92621ae2746758f555ede4902\n",
            "  Stored in directory: /root/.cache/pip/wheels/36/5d/63/8243a7ee78fff0f944d638fd0e66d7278888f5e2285d7346b6\n",
            "Successfully built odfpy\n",
            "Installing collected packages: odfpy\n",
            "Successfully installed odfpy-1.4.1\n"
          ]
        }
      ],
      "source": [
        "\n",
        "\n",
        "import pandas as pd\n",
        "import matplotlib.pyplot as plt\n",
        "import numpy as np\n",
        "!pip install odfpy\n"
      ]
    },
    {
      "cell_type": "code",
      "source": [
        "\n",
        "\n",
        "\n",
        "def main():\n",
        "    score = 'https://raw.githubusercontent.com/gustavofoltran/rosetta/02ae3f80020e40f04a546a52b79c48343f3a4573/score.ods'\n",
        "    df = pd.read_excel(score, skiprows=1, engine='odf', decimal=',')\n",
        "\n",
        "\n",
        "    colunas_essenciais = ['dG_separated', 'total_score', 'packstat', 'hbonds_int', 'fa_rep', 'fa_sol', 'sc_value', 'ddg', 'bu', 'description']\n",
        "    colunas_ascendentes = ['dG_separated', 'total_score', 'ddg', 'bu', 'fa_rep' ]\n",
        "    colunas_decrescentes = ['packstat', 'hbonds_int', 'sc_value' ]\n",
        "\n",
        "    for pontuação in colunas_ascendentes:\n",
        "\n",
        "        df[f'rank_{pontuação}'] = df[pontuação].rank(ascending=True)\n",
        "\n",
        "    for pontuação in colunas_decrescentes:\n",
        "        df[f'rank_{pontuação}'] = df[pontuação].rank(ascending=False)\n",
        "\n",
        "    ordem_final = [f'rank_{pontuação}' for pontuação in colunas_ascendentes + colunas_decrescentes]\n",
        "\n",
        "    df['final'] = df[ordem_final].sum(axis=1)\n",
        "\n",
        "    df_ranked_overall = df.sort_values(by='final', ascending=False)\n",
        "\n",
        "    colunas_para_exibir = ['description','final']\n",
        "\n",
        "    print(df_ranked_overall[colunas_para_exibir].tail(10))\n",
        "\n",
        "\n",
        "\n",
        "\n",
        "\n",
        "main()\n",
        "\n",
        "\n"
      ],
      "metadata": {
        "colab": {
          "base_uri": "https://localhost:8080/"
        },
        "id": "IZH-1X9EAxJr",
        "outputId": "8164ae32-83b8-4d35-8564-3c9d2b76a71d"
      },
      "execution_count": null,
      "outputs": [
        {
          "output_type": "stream",
          "name": "stdout",
          "text": [
            "       description  final\n",
            "81  1B41_0001_0082  261.0\n",
            "0   1B41_0001_0001  260.0\n",
            "18  1B41_0001_0019  254.0\n",
            "40  1B41_0001_0041  253.0\n",
            "52  1B41_0001_0053  250.5\n",
            "69  1B41_0001_0070  232.0\n",
            "77  1B41_0001_0078  216.0\n",
            "12  1B41_0001_0013  202.0\n",
            "17  1B41_0001_0018  189.5\n",
            "34  1B41_0001_0035  184.5\n"
          ]
        }
      ]
    },
    {
      "cell_type": "code",
      "source": [
        "\n",
        "print(planilha.columns)"
      ],
      "metadata": {
        "colab": {
          "base_uri": "https://localhost:8080/"
        },
        "id": "cBjr1LXqfJOY",
        "outputId": "527b3895-e789-4c45-9b2b-ebd6256b4bb3"
      },
      "execution_count": null,
      "outputs": [
        {
          "output_type": "stream",
          "name": "stdout",
          "text": [
            "Index(['SCORE:', 'total_score', 'bu', 'complex_normalized', 'dG_cross',\n",
            "       'dG_cross/dSASAx100', 'dG_separated', 'dG_separated/dSASAx100',\n",
            "       'dSASA_hphobic', 'dSASA_int', 'dSASA_polar', 'ddg', 'delta_unsatHbonds',\n",
            "       'dslf_fa13', 'fa_atr', 'fa_dun', 'fa_elec', 'fa_intra_rep',\n",
            "       'fa_intra_sol_xover4', 'fa_rep', 'fa_sol', 'hbond_E_fraction',\n",
            "       'hbond_bb_sc', 'hbond_lr_bb', 'hbond_sc', 'hbond_sr_bb', 'hbonds_int',\n",
            "       'lk_ball_wtd', 'nres_all', 'nres_int', 'omega', 'p_aa_pp', 'packstat',\n",
            "       'per_residue_energy_int', 'pro_close', 'rama_prepro', 'ref', 'sc_value',\n",
            "       'side1_normalized', 'side1_score', 'side2_normalized', 'side2_score',\n",
            "       'unsat', 'yhh_planarity', 'description'],\n",
            "      dtype='object')\n"
          ]
        }
      ]
    }
  ]
}
